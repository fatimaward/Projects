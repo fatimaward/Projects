{
 "cells": [
  {
   "cell_type": "code",
   "execution_count": 1,
   "id": "e1cb15e7",
   "metadata": {},
   "outputs": [],
   "source": [
    "import cv2\n",
    "import torch\n",
    "import numpy as np\n",
    "import dask.array as da\n",
    "import imutils\n",
    "import threading\n",
    "import winsound"
   ]
  },
  {
   "cell_type": "code",
   "execution_count": 2,
   "id": "eee1b597",
   "metadata": {},
   "outputs": [],
   "source": [
    "#Specifying the paths to the downloaded dependencies like the prototxt file and the pretrained Caffe model.\n",
    "prototxt=\"C:\\\\Users\\\\user\\\\Downloads\\\\MobileNetSSD_deploy.prototxt\"\n",
    "model=\"C:\\\\Users\\\\user\\\\Downloads\\\\mobilenet_iter_73000.caffemodel\""
   ]
  },
  {
   "cell_type": "code",
   "execution_count": 3,
   "id": "43606ebf",
   "metadata": {},
   "outputs": [],
   "source": [
    "#Specifying the minimum required confidence for us to write the class. Linking the classes to colors and initializing the model.\n",
    "minconfidence=0.3\n",
    "classes=['background',\n",
    "           'aeroplane', 'bicycle', 'bird', 'boat',\n",
    "           'bottle', 'bus', 'car', 'cat', 'chair',\n",
    "           'cow', 'diningtable', 'dog', 'horse',\n",
    "           'motorbike', 'person', 'pottedplant',\n",
    "           'sheep', 'sofa', 'train', 'tvmonitor']\n",
    "np.random.seed(1000)\n",
    "colors=np.random.uniform(0,255,size=(len(classes),3))\n",
    "network=cv2.dnn.readNetFromCaffe(prototxt,model)"
   ]
  },
  {
   "cell_type": "code",
   "execution_count": 4,
   "id": "0d6d57fc",
   "metadata": {},
   "outputs": [],
   "source": [
    "#Setting up the camera. \"Start\" represents the starting frame, which we will compare to the following frame, and so on.\n",
    "#We change from color to black and white because the focus here is on motion.\n",
    "#\"Alarm\" represents the presence of the beeping sound.\n",
    "#\"Check\" is for checking what is going on -- if there is too much movement.\n",
    "#\"Monitor\" counts the instances of movement that passes the threshold, and if the number is high enough, the beep sounds.\n",
    "live=cv2.VideoCapture(0,cv2.CAP_DSHOW)\n",
    "ret,start=live.read()\n",
    "start=cv2.cvtColor(start,cv2.COLOR_BGR2GRAY)\n",
    "alarm=False\n",
    "check=False\n",
    "monitor=0"
   ]
  },
  {
   "cell_type": "code",
   "execution_count": 5,
   "id": "c5ecfed2",
   "metadata": {},
   "outputs": [],
   "source": [
    "def soundthealarm():\n",
    "    global alarm\n",
    "    for i in range(5):\n",
    "        if not check:\n",
    "            break\n",
    "        winsound.Beep(1000,2000)\n",
    "    alarm=False"
   ]
  },
  {
   "cell_type": "code",
   "execution_count": 10,
   "id": "15909a65",
   "metadata": {},
   "outputs": [],
   "source": [
    "live=cv2.VideoCapture(0)\n",
    "while True:\n",
    "    ret,frame=live.read()\n",
    "    if ret==False:\n",
    "        break\n",
    "    height,width=frame.shape[0],frame.shape[1]\n",
    "    inp=cv2.dnn.blobFromImage(cv2.resize(frame,(300,300)),0.007,(300,300),100)\n",
    "    network.setInput(inp)\n",
    "    detected=network.forward()\n",
    "    detected=da.array(detected)\n",
    "    for i in range(detected.shape[2]):\n",
    "        confidence=detected[0][0][i][2]\n",
    "        if confidence>minconfidence:\n",
    "            predictedclass=int(detected[0][0][i][1])\n",
    "            text=f\"{classes[predictedclass]}:{confidence:.2f}\"\n",
    "            upperleftx=int(detected[0][0][i][3]*width)\n",
    "            upperlefty=int(detected[0][0][i][4]*height)\n",
    "            lowerrightx=int(detected[0][0][i][5]*width)\n",
    "            lowerrighty=int(detected[0][0][i][6]*height)\n",
    "            cv2.rectangle(frame,(upperleftx,upperlefty),(lowerrightx,lowerrighty))\n",
    "            cv2.putText(frame,text,(upperleftx,upperlefty+15),cv2.FONT_HERSHEY_SIMPLEX,0.5,colors[predictedclass],2)\n",
    "    if check:\n",
    "        frame=cv2.cvtColor(frame,cv2.COLOR_BGR2GRAY)\n",
    "        evidence=cv2.absdiff(start,frame)\n",
    "        threshold=cv2.threshold(evidence,25,255,cv2.THRESH_BINARY)[1]\n",
    "        start=frame\n",
    "        if threshold.sum()>1000000:\n",
    "            monitor+=1\n",
    "        else:\n",
    "            if monitor>0:\n",
    "                monitor-=1\n",
    "        cv2.imshow(\"Cam\",threshold)\n",
    "    else:\n",
    "        cv2.imshow(\"Cam\",frame)\n",
    "    if monitor>15:\n",
    "        if not alarm:\n",
    "            alarm=True\n",
    "            threading.Thread(target=soundthealarm).start()\n",
    "    if key==ord(\"a\"):\n",
    "        check=not check\n",
    "        monitor=0\n",
    "    if key==ord(\"q\"):\n",
    "        check=False\n",
    "        break"
   ]
  },
  {
   "cell_type": "code",
   "execution_count": 11,
   "id": "6db43cd9",
   "metadata": {},
   "outputs": [],
   "source": [
    "live.release()\n",
    "cv2.destroyAllWindows()"
   ]
  }
 ],
 "metadata": {
  "kernelspec": {
   "display_name": "Python 3 (ipykernel)",
   "language": "python",
   "name": "python3"
  },
  "language_info": {
   "codemirror_mode": {
    "name": "ipython",
    "version": 3
   },
   "file_extension": ".py",
   "mimetype": "text/x-python",
   "name": "python",
   "nbconvert_exporter": "python",
   "pygments_lexer": "ipython3",
   "version": "3.9.12"
  }
 },
 "nbformat": 4,
 "nbformat_minor": 5
}
